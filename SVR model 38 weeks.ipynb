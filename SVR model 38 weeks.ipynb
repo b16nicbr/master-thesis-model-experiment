{
 "cells": [
  {
   "cell_type": "code",
   "execution_count": 1,
   "id": "cdd99e14",
   "metadata": {},
   "outputs": [],
   "source": [
    "import pandas as pd\n",
    "from pandas import DataFrame\n",
    "from pandas import concat\n",
    "from sklearn.model_selection import train_test_split,GridSearchCV\n",
    "from sklearn.svm import SVR\n",
    "import matplotlib.pyplot as plt\n",
    "import seaborn as sb\n",
    "from sklearn.preprocessing import StandardScaler\n",
    "import numpy as np\n",
    "import shap #Check version, SHAP 0.36.0\n",
    "import time\n",
    "from sklearn.metrics import r2_score\n",
    "from sklearn.metrics import mean_squared_error, mean_absolute_error\n",
    "from sklearn.ensemble import IsolationForest\n",
    "from keras.preprocessing.sequence import TimeseriesGenerator\n",
    "from yellowbrick.model_selection import learning_curve"
   ]
  },
  {
   "cell_type": "code",
   "execution_count": 2,
   "id": "a1e0917a",
   "metadata": {},
   "outputs": [],
   "source": [
    "from numpy.random import seed\n",
    "seed(1)"
   ]
  },
  {
   "cell_type": "code",
   "execution_count": 3,
   "id": "611f284f",
   "metadata": {},
   "outputs": [],
   "source": [
    "df_predict = pd.read_csv(r\"C:/Users/Nicklas Branding/Desktop/infection_per_sweden_on_covid19.csv\",encoding=\"latin-1\")"
   ]
  },
  {
   "cell_type": "code",
   "execution_count": 4,
   "id": "54fc848d",
   "metadata": {},
   "outputs": [
    {
     "data": {
      "text/html": [
       "<div>\n",
       "<style scoped>\n",
       "    .dataframe tbody tr th:only-of-type {\n",
       "        vertical-align: middle;\n",
       "    }\n",
       "\n",
       "    .dataframe tbody tr th {\n",
       "        vertical-align: top;\n",
       "    }\n",
       "\n",
       "    .dataframe thead th {\n",
       "        text-align: right;\n",
       "    }\n",
       "</style>\n",
       "<table border=\"1\" class=\"dataframe\">\n",
       "  <thead>\n",
       "    <tr style=\"text-align: right;\">\n",
       "      <th></th>\n",
       "      <th>år</th>\n",
       "      <th>veckonummer</th>\n",
       "      <th>Antal_fall_vecka</th>\n",
       "      <th>Antal_fall_100000inv_vecka</th>\n",
       "      <th>Antal_fall_100000inv_14dagar</th>\n",
       "      <th>Kum_antal_fall</th>\n",
       "      <th>Kum_fall_100000inv</th>\n",
       "      <th>Antal_nyaintensivvårdade_vecka</th>\n",
       "      <th>Kum_antal_intensivvårdade</th>\n",
       "      <th>Antal_avlidna_vecka</th>\n",
       "      <th>Antal_avlidna_milj_inv_vecka</th>\n",
       "      <th>Kum_antal_avlidna</th>\n",
       "      <th>Kum_antal_avlidna_milj_inv</th>\n",
       "    </tr>\n",
       "  </thead>\n",
       "  <tbody>\n",
       "    <tr>\n",
       "      <th>0</th>\n",
       "      <td>2020</td>\n",
       "      <td>6</td>\n",
       "      <td>1</td>\n",
       "      <td>0</td>\n",
       "      <td>0</td>\n",
       "      <td>1</td>\n",
       "      <td>0</td>\n",
       "      <td>0</td>\n",
       "      <td>0</td>\n",
       "      <td>0</td>\n",
       "      <td>0</td>\n",
       "      <td>0</td>\n",
       "      <td>0</td>\n",
       "    </tr>\n",
       "    <tr>\n",
       "      <th>1</th>\n",
       "      <td>2020</td>\n",
       "      <td>7</td>\n",
       "      <td>0</td>\n",
       "      <td>0</td>\n",
       "      <td>0</td>\n",
       "      <td>1</td>\n",
       "      <td>0</td>\n",
       "      <td>0</td>\n",
       "      <td>0</td>\n",
       "      <td>0</td>\n",
       "      <td>0</td>\n",
       "      <td>0</td>\n",
       "      <td>0</td>\n",
       "    </tr>\n",
       "    <tr>\n",
       "      <th>2</th>\n",
       "      <td>2020</td>\n",
       "      <td>8</td>\n",
       "      <td>0</td>\n",
       "      <td>0</td>\n",
       "      <td>0</td>\n",
       "      <td>1</td>\n",
       "      <td>0</td>\n",
       "      <td>0</td>\n",
       "      <td>0</td>\n",
       "      <td>0</td>\n",
       "      <td>0</td>\n",
       "      <td>0</td>\n",
       "      <td>0</td>\n",
       "    </tr>\n",
       "    <tr>\n",
       "      <th>3</th>\n",
       "      <td>2020</td>\n",
       "      <td>9</td>\n",
       "      <td>13</td>\n",
       "      <td>0</td>\n",
       "      <td>0</td>\n",
       "      <td>14</td>\n",
       "      <td>0</td>\n",
       "      <td>0</td>\n",
       "      <td>0</td>\n",
       "      <td>0</td>\n",
       "      <td>0</td>\n",
       "      <td>0</td>\n",
       "      <td>0</td>\n",
       "    </tr>\n",
       "    <tr>\n",
       "      <th>4</th>\n",
       "      <td>2020</td>\n",
       "      <td>10</td>\n",
       "      <td>211</td>\n",
       "      <td>2</td>\n",
       "      <td>2</td>\n",
       "      <td>225</td>\n",
       "      <td>2</td>\n",
       "      <td>3</td>\n",
       "      <td>3</td>\n",
       "      <td>0</td>\n",
       "      <td>0</td>\n",
       "      <td>0</td>\n",
       "      <td>0</td>\n",
       "    </tr>\n",
       "  </tbody>\n",
       "</table>\n",
       "</div>"
      ],
      "text/plain": [
       "     år  veckonummer  Antal_fall_vecka  Antal_fall_100000inv_vecka  \\\n",
       "0  2020            6                 1                           0   \n",
       "1  2020            7                 0                           0   \n",
       "2  2020            8                 0                           0   \n",
       "3  2020            9                13                           0   \n",
       "4  2020           10               211                           2   \n",
       "\n",
       "   Antal_fall_100000inv_14dagar  Kum_antal_fall  Kum_fall_100000inv  \\\n",
       "0                             0               1                   0   \n",
       "1                             0               1                   0   \n",
       "2                             0               1                   0   \n",
       "3                             0              14                   0   \n",
       "4                             2             225                   2   \n",
       "\n",
       "   Antal_nyaintensivvårdade_vecka  Kum_antal_intensivvårdade  \\\n",
       "0                               0                          0   \n",
       "1                               0                          0   \n",
       "2                               0                          0   \n",
       "3                               0                          0   \n",
       "4                               3                          3   \n",
       "\n",
       "   Antal_avlidna_vecka  Antal_avlidna_milj_inv_vecka  Kum_antal_avlidna  \\\n",
       "0                    0                             0                  0   \n",
       "1                    0                             0                  0   \n",
       "2                    0                             0                  0   \n",
       "3                    0                             0                  0   \n",
       "4                    0                             0                  0   \n",
       "\n",
       "   Kum_antal_avlidna_milj_inv  \n",
       "0                           0  \n",
       "1                           0  \n",
       "2                           0  \n",
       "3                           0  \n",
       "4                           0  "
      ]
     },
     "execution_count": 4,
     "metadata": {},
     "output_type": "execute_result"
    }
   ],
   "source": [
    "df_predict.head()"
   ]
  },
  {
   "cell_type": "code",
   "execution_count": 5,
   "id": "47a0ebc6",
   "metadata": {},
   "outputs": [],
   "source": [
    "df_predict = df_predict.drop(['Antal_fall_100000inv_vecka', 'Antal_fall_100000inv_14dagar', 'Kum_antal_fall', 'Kum_fall_100000inv', 'Antal_nyaintensivvårdade_vecka', 'Kum_antal_intensivvårdade', 'Antal_avlidna_vecka', 'Antal_avlidna_milj_inv_vecka', 'Kum_antal_avlidna', 'Kum_antal_avlidna_milj_inv','veckonummer','år'],axis=1)"
   ]
  },
  {
   "cell_type": "code",
   "execution_count": 6,
   "id": "0c973d8c",
   "metadata": {},
   "outputs": [],
   "source": [
    "feature = ['Antal_fall_vecka']"
   ]
  },
  {
   "cell_type": "code",
   "execution_count": 7,
   "id": "f9c19528",
   "metadata": {},
   "outputs": [],
   "source": [
    "dfX_predict = df_predict[feature]\n",
    "#dfX.head(48)"
   ]
  },
  {
   "cell_type": "code",
   "execution_count": 8,
   "id": "478755ff",
   "metadata": {},
   "outputs": [
    {
     "data": {
      "text/plain": [
       "(101, 1)"
      ]
     },
     "execution_count": 8,
     "metadata": {},
     "output_type": "execute_result"
    }
   ],
   "source": [
    "dfX_predict.shape"
   ]
  },
  {
   "cell_type": "code",
   "execution_count": 9,
   "id": "5745798c",
   "metadata": {},
   "outputs": [],
   "source": [
    "mu = df_predict.mean(0)\n",
    "sd = df_predict.std(0)\n",
    "df_norm = (df_predict - mu) / sd\n",
    "df_norm.head(3)\n",
    "Y_mu_2 = np.asarray(mu[feature])\n",
    "Y_sd_2 = np.asarray(sd[feature])"
   ]
  },
  {
   "cell_type": "code",
   "execution_count": 10,
   "id": "05883fa3",
   "metadata": {},
   "outputs": [
    {
     "data": {
      "text/plain": [
       "array([[-0.80600237],\n",
       "       [-0.80605767],\n",
       "       [-0.80605767],\n",
       "       [-0.80533875],\n",
       "       [-0.79438912],\n",
       "       [-0.7597153 ],\n",
       "       [-0.7549594 ],\n",
       "       [-0.6978333 ],\n",
       "       [-0.62749022],\n",
       "       [-0.59923133],\n",
       "       [-0.59856771],\n",
       "       [-0.57362689],\n",
       "       [-0.59414362],\n",
       "       [-0.57639195],\n",
       "       [-0.59209748],\n",
       "       [-0.60371072],\n",
       "       [-0.5693687 ],\n",
       "       [-0.47308938],\n",
       "       [-0.4121475 ],\n",
       "       [-0.41491256],\n",
       "       [-0.39378752],\n",
       "       [-0.569424  ],\n",
       "       [-0.68555644],\n",
       "       [-0.71635919],\n",
       "       [-0.73328134],\n",
       "       [-0.72000906],\n",
       "       [-0.69468113],\n",
       "       [-0.69257969],\n",
       "       [-0.71276461],\n",
       "       [-0.73969628],\n",
       "       [-0.73239652],\n",
       "       [-0.71801822],\n",
       "       [-0.69103125],\n",
       "       [-0.64463358],\n",
       "       [-0.60465084],\n",
       "       [-0.5694793 ],\n",
       "       [-0.49526515],\n",
       "       [-0.29977554],\n",
       "       [ 0.21557597],\n",
       "       [ 0.59886831],\n",
       "       [ 0.92591937],\n",
       "       [ 0.9604826 ],\n",
       "       [ 1.1604516 ],\n",
       "       [ 1.23107118],\n",
       "       [ 1.60678726],\n",
       "       [ 1.74758402],\n",
       "       [ 1.24749562],\n",
       "       [ 1.47915218],\n",
       "       [ 1.37557311],\n",
       "       [ 0.79424731],\n",
       "       [ 0.47836708],\n",
       "       [ 0.3362431 ],\n",
       "       [ 0.27812158],\n",
       "       [ 0.37091693],\n",
       "       [ 0.49987923],\n",
       "       [ 0.669875  ],\n",
       "       [ 0.72816243],\n",
       "       [ 0.77312227],\n",
       "       [ 1.02065026],\n",
       "       [ 1.28875029],\n",
       "       [ 1.31673268],\n",
       "       [ 1.46925328],\n",
       "       [ 1.46322545],\n",
       "       [ 1.18655374],\n",
       "       [ 1.1464051 ],\n",
       "       [ 1.05648541],\n",
       "       [ 0.6270166 ],\n",
       "       [ 0.19870912],\n",
       "       [-0.36508622],\n",
       "       [-0.30314892],\n",
       "       [-0.56306437],\n",
       "       [-0.64855996],\n",
       "       [-0.69639547],\n",
       "       [-0.7026445 ],\n",
       "       [-0.72233171],\n",
       "       [-0.70192558],\n",
       "       [-0.65884598],\n",
       "       [-0.61471565],\n",
       "       [-0.55122992],\n",
       "       [-0.48426022],\n",
       "       [-0.44864627],\n",
       "       [-0.43620351],\n",
       "       [-0.40578787],\n",
       "       [-0.36536272],\n",
       "       [-0.4598171 ],\n",
       "       [-0.56809678],\n",
       "       [-0.57202316],\n",
       "       [-0.57722147],\n",
       "       [-0.58109255],\n",
       "       [-0.51887874],\n",
       "       [-0.47917251],\n",
       "       [-0.5262338 ],\n",
       "       [-0.48420491],\n",
       "       [-0.41375124],\n",
       "       [-0.14719964],\n",
       "       [-0.04290165],\n",
       "       [ 0.22530897],\n",
       "       [ 0.5508669 ],\n",
       "       [ 0.74491868],\n",
       "       [ 2.48159632],\n",
       "       [ 6.06295477]])"
      ]
     },
     "execution_count": 10,
     "metadata": {},
     "output_type": "execute_result"
    }
   ],
   "source": [
    "df_norm = np.asarray(df_norm)\n",
    "df_norm.reshape((-1,1))"
   ]
  },
  {
   "cell_type": "code",
   "execution_count": 11,
   "id": "651ae68a",
   "metadata": {},
   "outputs": [],
   "source": [
    "def series_to_supervised(data, n_in=1, n_out=1, dropnan=True):\n",
    "    \"\"\"\n",
    "    Frame a time series as a supervised learning dataset.\n",
    "    Arguments:\n",
    "        data: Sequence of observations as a list or NumPy array.\n",
    "        n_in: Number of lag observations as input (X).\n",
    "        n_out: Number of observations as output (y).\n",
    "        dropnan: Boolean whether or not to drop rows with NaN values.\n",
    "    Returns:\n",
    "        Pandas DataFrame of series framed for supervised learning.\n",
    "    \"\"\"\n",
    "    n_vars = 1 if type(data) is list else data.shape[1]\n",
    "    df = DataFrame(data)\n",
    "    cols, names = list(), list()\n",
    "    # input sequence (t-n, ... t-1)\n",
    "    for i in range(n_in, 0, -1):\n",
    "        cols.append(df.shift(i))\n",
    "        names += [('timeseriesperiod%d(t-%d)' % (j+1, i)) for j in range(n_vars)]\n",
    "    # forecast sequence (t, t+1, ... t+n)\n",
    "    for i in range(0, n_out):\n",
    "        cols.append(df.shift(-i))\n",
    "        if i == 0:\n",
    "            names += [('timeseriesperiod%d(t)' % (j+1)) for j in range(n_vars)]\n",
    "        else:\n",
    "            names += [('timeseriesperiod%d(t+%d)' % (j+1, i)) for j in range(n_vars)]\n",
    "    # put it all together\n",
    "    agg = concat(cols, axis=1)\n",
    "    agg.columns = names\n",
    "    # drop rows with NaN values\n",
    "    if dropnan:\n",
    "        agg.dropna(inplace=True)\n",
    "    return agg"
   ]
  },
  {
   "cell_type": "code",
   "execution_count": 12,
   "id": "1618984d",
   "metadata": {},
   "outputs": [],
   "source": [
    "df = series_to_supervised(df_norm,2,1)\n",
    "X_training_data = df.loc[0:61,[\"timeseriesperiod1(t-1)\",\"timeseriesperiod1(t-2)\"]]\n",
    "Y_training_data = df.loc[0:61,\"timeseriesperiod1(t)\"]\n",
    "X_testing_data = df.loc[61:101,[\"timeseriesperiod1(t-1)\",\"timeseriesperiod1(t-2)\"]]\n",
    "Y_testing_data = df.loc[61:101,\"timeseriesperiod1(t)\"]\n",
    "#print(training_data)\n",
    "#print(testing_data)"
   ]
  },
  {
   "cell_type": "code",
   "execution_count": 13,
   "id": "8031e70a",
   "metadata": {},
   "outputs": [],
   "source": [
    "X_training_data = X_training_data[0:61]\n",
    "Y_training_data = Y_training_data[0:61]\n",
    "X_testing_data_38 = X_testing_data[0:38]\n",
    "Y_testing_data_38 = Y_testing_data[0:38]\n",
    "X_testing_data_32 = X_testing_data[0:30]\n",
    "Y_testing_data_32 = Y_testing_data[0:30]\n",
    "X_testing_data_16 = X_testing_data[0:14]\n",
    "Y_testing_data_16 = Y_testing_data[0:14]\n",
    "X_testing_data_8 = X_testing_data[0:6] \n",
    "Y_testing_data_8 = Y_testing_data[0:6]\n",
    "X_training_data = np.asarray(X_training_data)\n",
    "Y_training_data = np.asarray(Y_training_data)\n",
    "\n",
    "X_testing_data_38 = np.asarray(X_testing_data_38)\n",
    "Y_testing_data_38 = np.asarray(Y_testing_data_38)\n",
    "X_testing_data_32 = np.asarray(X_testing_data_32)\n",
    "Y_testing_data_32 = np.asarray(Y_testing_data_32)\n",
    "X_testing_data_16 = np.asarray(X_testing_data_16)\n",
    "Y_testing_data_16 = np.asarray(Y_testing_data_16)\n",
    "X_testing_data_8 = np.asarray(X_testing_data_8)\n",
    "Y_testing_data_8 = np.asarray(Y_testing_data_8)\n",
    "#print(df.loc[1:61,[\"timeseriesperiod1(t-1)\",\"timeseriesperiod1(t-2)\"]])\n",
    "#print(Y_training_data)\n",
    "#print(X_testing_data_38)\n",
    "#print(Y_testing_data_38)\n",
    "#print(X_testing_data_8)"
   ]
  },
  {
   "cell_type": "code",
   "execution_count": 14,
   "id": "8ce81cbe",
   "metadata": {},
   "outputs": [],
   "source": [
    "Y_test_1_sample = Y_testing_data[0:1]\n",
    "Y_test_2_sample = Y_testing_data[1:2]\n",
    "Y_test_3_sample = Y_testing_data[2:3]\n",
    "Y_test_4_sample = Y_testing_data[3:4]\n",
    "Y_test_5_sample = Y_testing_data[4:5]\n",
    "Y_test_6_sample = Y_testing_data[5:6]\n",
    "Y_test_7_sample = Y_testing_data[6:7]\n",
    "Y_test_8_sample = Y_testing_data[7:8]\n",
    "Y_test_9_sample = Y_testing_data[8:9]\n",
    "Y_test_10_sample = Y_testing_data[9:10]\n",
    "Y_test_11_sample = Y_testing_data[10:11]\n",
    "Y_test_12_sample = Y_testing_data[11:12]\n",
    "Y_test_13_sample = Y_testing_data[12:13]\n",
    "Y_test_14_sample = Y_testing_data[13:14]\n",
    "Y_test_15_sample = Y_testing_data[14:15]\n",
    "Y_test_16_sample = Y_testing_data[15:16]\n",
    "Y_test_17_sample = Y_testing_data[16:17]\n",
    "Y_test_18_sample = Y_testing_data[17:18]\n",
    "Y_test_19_sample = Y_testing_data[18:19]\n",
    "Y_test_20_sample = Y_testing_data[19:20]\n",
    "Y_test_21_sample = Y_testing_data[20:21]\n",
    "Y_test_22_sample = Y_testing_data[21:22]\n",
    "Y_test_23_sample = Y_testing_data[22:23]\n",
    "Y_test_24_sample = Y_testing_data[23:24]\n",
    "Y_test_25_sample = Y_testing_data[24:25]\n",
    "Y_test_26_sample = Y_testing_data[25:26]\n",
    "Y_test_27_sample = Y_testing_data[26:27]\n",
    "Y_test_28_sample = Y_testing_data[27:28]\n",
    "Y_test_29_sample = Y_testing_data[28:29]\n",
    "Y_test_30_sample = Y_testing_data[29:30]\n",
    "Y_test_31_sample = Y_testing_data[30:31]\n",
    "Y_test_32_sample = Y_testing_data[31:32]\n",
    "Y_test_33_sample = Y_testing_data[32:33]\n",
    "Y_test_34_sample = Y_testing_data[33:34]\n",
    "Y_test_35_sample = Y_testing_data[34:35]\n",
    "Y_test_36_sample = Y_testing_data[35:36]\n",
    "Y_test_37_sample = Y_testing_data[36:37]\n",
    "Y_test_38_sample = Y_testing_data[37:38]"
   ]
  },
  {
   "cell_type": "code",
   "execution_count": 15,
   "id": "52d82e6b",
   "metadata": {},
   "outputs": [
    {
     "data": {
      "text/plain": [
       "{'C': 2, 'epsilon': 2e-08, 'gamma': 0.0001, 'kernel': 'linear'}"
      ]
     },
     "execution_count": 15,
     "metadata": {},
     "output_type": "execute_result"
    }
   ],
   "source": [
    "parameters = {'kernel':('linear', 'rbf','poly'), 'C':[1,2,3,4,5,6,7,8,9,10],'gamma':[1e-4,1e-3,1e-2,1e-1], 'epsilon':[1,0.1,0.2,0.5,0.3,0.00000002]}\n",
    "regression= SVR()\n",
    "grid = GridSearchCV(regression, parameters)\n",
    "grid.fit(X_training_data,Y_training_data)\n",
    "grid.best_params_"
   ]
  },
  {
   "cell_type": "code",
   "execution_count": 16,
   "id": "14caea44",
   "metadata": {},
   "outputs": [
    {
     "data": {
      "text/plain": [
       "SVR(C=2, epsilon=2e-08, gamma=0.0001, kernel='linear')"
      ]
     },
     "execution_count": 16,
     "metadata": {},
     "output_type": "execute_result"
    }
   ],
   "source": [
    "svr_best_model = SVR(C=2,epsilon=2e-8,gamma=0.0001,kernel='linear')\n",
    "svr_best_model.fit(X_training_data,Y_training_data)"
   ]
  },
  {
   "cell_type": "code",
   "execution_count": 17,
   "id": "21d86695",
   "metadata": {},
   "outputs": [],
   "source": [
    "y_prediction_38_week = svr_best_model.predict(X_testing_data_38)"
   ]
  },
  {
   "cell_type": "code",
   "execution_count": 18,
   "id": "7e84431b",
   "metadata": {},
   "outputs": [],
   "source": [
    "y_predict_sample_1 = y_prediction_38_week[0:1]\n",
    "y_predict_sample_2 = y_prediction_38_week[1:2]\n",
    "y_predict_sample_3 = y_prediction_38_week[2:3]\n",
    "y_predict_sample_4 = y_prediction_38_week[3:4]\n",
    "y_predict_sample_5 = y_prediction_38_week[4:5]\n",
    "y_predict_sample_6 = y_prediction_38_week[5:6]\n",
    "y_predict_sample_7 = y_prediction_38_week[6:7]\n",
    "y_predict_sample_8 = y_prediction_38_week[7:8]\n",
    "y_predict_sample_9 = y_prediction_38_week[8:9]\n",
    "y_predict_sample_10 = y_prediction_38_week[9:10]\n",
    "y_predict_sample_11 = y_prediction_38_week[10:11]\n",
    "y_predict_sample_12 = y_prediction_38_week[11:12]\n",
    "y_predict_sample_13 = y_prediction_38_week[12:13]\n",
    "y_predict_sample_14 = y_prediction_38_week[13:14]\n",
    "y_predict_sample_15 = y_prediction_38_week[14:15]\n",
    "y_predict_sample_16 = y_prediction_38_week[15:16]\n",
    "y_predict_sample_17 = y_prediction_38_week[16:17]\n",
    "y_predict_sample_18 = y_prediction_38_week[17:18]\n",
    "y_predict_sample_19 = y_prediction_38_week[18:19]\n",
    "y_predict_sample_20 = y_prediction_38_week[19:20]\n",
    "y_predict_sample_21 = y_prediction_38_week[20:21]\n",
    "y_predict_sample_22 = y_prediction_38_week[21:22]\n",
    "y_predict_sample_23 = y_prediction_38_week[22:23]\n",
    "y_predict_sample_24 = y_prediction_38_week[23:24]\n",
    "y_predict_sample_25 = y_prediction_38_week[24:25]\n",
    "y_predict_sample_26 = y_prediction_38_week[25:26]\n",
    "y_predict_sample_27 = y_prediction_38_week[26:27]\n",
    "y_predict_sample_28 = y_prediction_38_week[27:28]\n",
    "y_predict_sample_29 = y_prediction_38_week[28:29]\n",
    "y_predict_sample_30 = y_prediction_38_week[29:30]\n",
    "y_predict_sample_31 = y_prediction_38_week[30:31]\n",
    "y_predict_sample_32 = y_prediction_38_week[31:32]\n",
    "y_predict_sample_33 = y_prediction_38_week[32:33]\n",
    "y_predict_sample_34 = y_prediction_38_week[33:34]\n",
    "y_predict_sample_35 = y_prediction_38_week[34:35]\n",
    "y_predict_sample_36 = y_prediction_38_week[35:36]\n",
    "y_predict_sample_37 = y_prediction_38_week[36:37]\n",
    "y_predict_sample_38 = y_prediction_38_week[37:38]"
   ]
  },
  {
   "cell_type": "code",
   "execution_count": 19,
   "id": "832853a8",
   "metadata": {},
   "outputs": [
    {
     "name": "stdout",
     "output_type": "stream",
     "text": [
      "r2 score stable week :  0.9529031009341167\n",
      "r2 score volatile week:  0.3693149526729059\n",
      "r2 score 38 week prediction:  0.9506180097495793\n"
     ]
    }
   ],
   "source": [
    "r2scoremodel_38_week=r2_score(Y_testing_data_38, y_prediction_38_week)\n",
    "print(\"r2 score 38 week prediction: \",r2scoremodel_38_week)"
   ]
  },
  {
   "cell_type": "code",
   "execution_count": 20,
   "id": "977aa866",
   "metadata": {},
   "outputs": [
    {
     "name": "stdout",
     "output_type": "stream",
     "text": [
      "RMSE 38 week prediction: 0.0214\n",
      "RMSE stable week: 0.0004\n",
      "RMSE volatile week: 0.0033\n"
     ]
    }
   ],
   "source": [
    "print(\"RMSE 38 week prediction: {0:0.4f}\".format(mean_squared_error(Y_testing_data_38, y_prediction_38_week)))"
   ]
  },
  {
   "cell_type": "code",
   "execution_count": 21,
   "id": "b7c1f99b",
   "metadata": {},
   "outputs": [
    {
     "name": "stdout",
     "output_type": "stream",
     "text": [
      "MAE 38 week prediction: 0.0955\n",
      "MAE stable week: 0.0169\n",
      "MAE volatile week: 0.0426\n"
     ]
    }
   ],
   "source": [
    "print(\"MAE 38 week prediction: {0:0.4f}\".format(mean_absolute_error(Y_testing_data_38, y_prediction_38_week)))"
   ]
  },
  {
   "cell_type": "code",
   "execution_count": 22,
   "id": "cc81c09c",
   "metadata": {},
   "outputs": [
    {
     "name": "stdout",
     "output_type": "stream",
     "text": [
      "MAE 39 samples\n",
      "0.1551, \n",
      " 0.0541,\n",
      "0.2571,\n",
      "0.0904,\n",
      "0.0611,\n",
      " 0.3809,\n",
      "0.2418,\n",
      "0.3850,\n",
      "0.2891,\n",
      " 0.2991,\n",
      "0.0085,\n",
      "0.0298,\n",
      "0.0051,\n",
      " 0.0365,\n",
      "0.0090,\n",
      "0.0149,\n",
      "0.0070,\n",
      " 0.0267,\n",
      "0.0229,\n",
      "0.0088,\n",
      "0.0179,\n",
      " 0.0101,\n",
      "0.0130,\n",
      "0.1255,\n",
      "0.0833,\n",
      " 0.0252,\n",
      "0.0208,\n",
      "0.0190,\n",
      "0.0465,\n",
      " 0.0032,\n",
      "0.0797,\n",
      "0.0457,\n",
      "0.0367\n",
      "0.2219,\n",
      " 0.0197,\n",
      "0.2153,\n",
      "0.2071,\n",
      "0.0566,\n"
     ]
    }
   ],
   "source": [
    "print(\"MAE 39 samples\")\n",
    "print(\"{0:0.4f}, \".format(mean_absolute_error(Y_test_1_sample, y_predict_sample_1)))\n",
    "print(\" {0:0.4f},\".format(mean_absolute_error(Y_test_2_sample, y_predict_sample_2)))\n",
    "print(\"{0:0.4f},\".format(mean_absolute_error(Y_test_3_sample, y_predict_sample_3)))\n",
    "print(\"{0:0.4f},\".format(mean_absolute_error(Y_test_4_sample, y_predict_sample_4)))\n",
    "\n",
    "print(\"{0:0.4f},\".format(mean_absolute_error(Y_test_5_sample, y_predict_sample_5)))\n",
    "print(\" {0:0.4f},\".format(mean_absolute_error(Y_test_6_sample, y_predict_sample_6)))\n",
    "print(\"{0:0.4f},\".format(mean_absolute_error(Y_test_7_sample, y_predict_sample_7)))\n",
    "print(\"{0:0.4f},\".format(mean_absolute_error(Y_test_8_sample, y_predict_sample_8)))\n",
    "\n",
    "print(\"{0:0.4f},\".format(mean_absolute_error(Y_test_9_sample, y_predict_sample_9)))\n",
    "print(\" {0:0.4f},\".format(mean_absolute_error(Y_test_10_sample, y_predict_sample_10)))\n",
    "print(\"{0:0.4f},\".format(mean_absolute_error(Y_test_11_sample, y_predict_sample_11)))\n",
    "print(\"{0:0.4f},\".format(mean_absolute_error(Y_test_12_sample, y_predict_sample_12)))\n",
    "\n",
    "print(\"{0:0.4f},\".format(mean_absolute_error(Y_test_13_sample, y_predict_sample_13)))\n",
    "print(\" {0:0.4f},\".format(mean_absolute_error(Y_test_14_sample, y_predict_sample_14)))\n",
    "print(\"{0:0.4f},\".format(mean_absolute_error(Y_test_15_sample, y_predict_sample_15)))\n",
    "print(\"{0:0.4f},\".format(mean_absolute_error(Y_test_16_sample, y_predict_sample_16)))\n",
    "\n",
    "print(\"{0:0.4f},\".format(mean_absolute_error(Y_test_17_sample, y_predict_sample_17)))\n",
    "print(\" {0:0.4f},\".format(mean_absolute_error(Y_test_18_sample, y_predict_sample_18)))\n",
    "print(\"{0:0.4f},\".format(mean_absolute_error(Y_test_19_sample, y_predict_sample_19)))\n",
    "print(\"{0:0.4f},\".format(mean_absolute_error(Y_test_20_sample, y_predict_sample_20)))\n",
    "\n",
    "print(\"{0:0.4f},\".format(mean_absolute_error(Y_test_21_sample, y_predict_sample_21)))\n",
    "print(\" {0:0.4f},\".format(mean_absolute_error(Y_test_22_sample, y_predict_sample_22)))\n",
    "print(\"{0:0.4f},\".format(mean_absolute_error(Y_test_23_sample, y_predict_sample_23)))\n",
    "print(\"{0:0.4f},\".format(mean_absolute_error(Y_test_24_sample, y_predict_sample_24)))\n",
    "\n",
    "print(\"{0:0.4f},\".format(mean_absolute_error(Y_test_25_sample, y_predict_sample_25)))\n",
    "print(\" {0:0.4f},\".format(mean_absolute_error(Y_test_26_sample, y_predict_sample_26)))\n",
    "print(\"{0:0.4f},\".format(mean_absolute_error(Y_test_27_sample, y_predict_sample_27)))\n",
    "print(\"{0:0.4f},\".format(mean_absolute_error(Y_test_28_sample, y_predict_sample_28)))\n",
    "\n",
    "print(\"{0:0.4f},\".format(mean_absolute_error(Y_test_29_sample, y_predict_sample_29)))\n",
    "print(\" {0:0.4f},\".format(mean_absolute_error(Y_test_30_sample, y_predict_sample_30)))\n",
    "print(\"{0:0.4f},\".format(mean_absolute_error(Y_test_31_sample, y_predict_sample_31)))\n",
    "print(\"{0:0.4f},\".format(mean_absolute_error(Y_test_32_sample, y_predict_sample_32)))\n",
    "print(\"{0:0.4f}\".format(mean_absolute_error(Y_test_33_sample, y_predict_sample_33)))\n",
    "\n",
    "print(\"{0:0.4f},\".format(mean_absolute_error(Y_test_34_sample, y_predict_sample_34)))\n",
    "print(\" {0:0.4f},\".format(mean_absolute_error(Y_test_35_sample, y_predict_sample_35)))\n",
    "print(\"{0:0.4f},\".format(mean_absolute_error(Y_test_36_sample, y_predict_sample_36)))\n",
    "print(\"{0:0.4f},\".format(mean_absolute_error(Y_test_37_sample, y_predict_sample_37)))\n",
    "print(\"{0:0.4f},\".format(mean_absolute_error(Y_test_38_sample, y_predict_sample_38)))"
   ]
  },
  {
   "cell_type": "code",
   "execution_count": 23,
   "id": "44b4daa3",
   "metadata": {},
   "outputs": [
    {
     "data": {
      "image/png": "[encoded data removed]",
      "text/plain": [
       "<Figure size 864x432 with 1 Axes>"
      ]
     },
     "metadata": {},
     "output_type": "display_data"
    }
   ],
   "source": [
    "fig, ax = plt.subplots( figsize = (12, 6))\n",
    "# creating the bar plot\n",
    "ax.plot(Y_testing_data_38*Y_sd_2+Y_mu_2, label='Actual', color ='blue')\n",
    "ax.plot(y_prediction_38_week*Y_sd_2+Y_mu_2,label='Predicted SVR', color ='orange')\n",
    "ax.set_xlabel(\"Week\")\n",
    "ax.set_ylabel(\"No. of infections\")\n",
    "ax.set_title(\"38 week Predicted Vs. Actual\")\n",
    "ax.legend()\n",
    "fig.tight_layout()\n",
    "plt.show()"
   ]
  },
  {
   "cell_type": "code",
   "execution_count": null,
   "id": "d31960b1",
   "metadata": {},
   "outputs": [],
   "source": []
  }
 ],
 "metadata": {
  "kernelspec": {
   "display_name": "Python 3 (ipykernel)",
   "language": "python",
   "name": "python3"
  },
  "language_info": {
   "codemirror_mode": {
    "name": "ipython",
    "version": 3
   },
   "file_extension": ".py",
   "mimetype": "text/x-python",
   "name": "python",
   "nbconvert_exporter": "python",
   "pygments_lexer": "ipython3",
   "version": "3.8.12"
  }
 },
 "nbformat": 4,
 "nbformat_minor": 5
}
